{
  "nbformat": 4,
  "nbformat_minor": 0,
  "metadata": {
    "colab": {
      "provenance": []
    },
    "kernelspec": {
      "name": "python3",
      "display_name": "Python 3"
    },
    "language_info": {
      "name": "python"
    }
  },
  "cells": [
    {
      "cell_type": "code",
      "execution_count": null,
      "metadata": {
        "colab": {
          "base_uri": "https://localhost:8080/"
        },
        "id": "mcvb__71D51z",
        "outputId": "ad9ca6a8-1a76-4800-8a6f-77b7603bd10b"
      },
      "outputs": [
        {
          "output_type": "stream",
          "name": "stdout",
          "text": [
            "1. Bitcoin (BTC)\n",
            "Current Price: 61925 USD\n",
            "Price Change (1h): -0.02247460051981835%\n",
            "Price Change (24h): -0.23559489352200652%\n",
            "Price Change (7d): 19.779931373981807%\n",
            "\n",
            "\n",
            "2. Ethereum (ETH)\n",
            "Current Price: 3417.08 USD\n",
            "Price Change (1h): -0.20462986725989454%\n",
            "Price Change (24h): -0.6324141381649355%\n",
            "Price Change (7d): 12.762203116450477%\n",
            "\n",
            "\n",
            "3. Tether (USDT)\n",
            "Current Price: 1.0 USD\n",
            "Price Change (1h): -0.02132050096559194%\n",
            "Price Change (24h): -0.029850600016596764%\n",
            "Price Change (7d): -0.04512539764426522%\n",
            "\n",
            "\n",
            "4. BNB (BNB)\n",
            "Current Price: 411.59 USD\n",
            "Price Change (1h): 0.1999155057711523%\n",
            "Price Change (24h): 0.5447036826307796%\n",
            "Price Change (7d): 8.450970772510193%\n",
            "\n",
            "\n",
            "5. Solana (SOL)\n",
            "Current Price: 129.19 USD\n",
            "Price Change (1h): -0.3288499122813576%\n",
            "Price Change (24h): -0.0835612153903987%\n",
            "Price Change (7d): 25.195088183650554%\n",
            "\n",
            "\n"
          ]
        }
      ],
      "source": [
        "import requests\n",
        "# Replace 'YOUR_API_KEY' with your actual API key from coingechko\n",
        "API_KEY = 'CG-CaCaf4RD1HfXRvdPSKwNWoDv'\n",
        "# Function to fetch cryptocurrency data from CoinGecko\n",
        "def fetch_cryptocurrency_data():\n",
        "    url = 'https://api.coingecko.com/api/v3/coins/markets'\n",
        "    params = {\n",
        "        'vs_currency': 'usd',  # Currency to convert prices into (e.g., 'usd', 'eur')\n",
        "        'order': 'market_cap_desc',  # Order results by market capitalization descending\n",
        "        'per_page': 5,  # Limiting to the top 5 cryptocurrencies\n",
        "        'sparkline': False,  # Disable sparkline (price chart)\n",
        "        'price_change_percentage': '1h,24h,7d'  # Include price change percentages for 1 hour, 24 hours, and 7 days\n",
        "    }\n",
        "    response = requests.get(url, params=params)\n",
        "    if response.status_code == 200:\n",
        "        data = response.json()\n",
        "        # Printing cryptocurrency data\n",
        "        for index, crypto in enumerate(data):\n",
        "            print(f\"{index + 1}. {crypto['name']} ({crypto['symbol'].upper()})\")\n",
        "            print(f\"Current Price: {crypto['current_price']} {params['vs_currency'].upper()}\")\n",
        "            print(f\"Price Change (1h): {crypto['price_change_percentage_1h_in_currency']}%\")\n",
        "            print(f\"Price Change (24h): {crypto['price_change_percentage_24h_in_currency']}%\")\n",
        "            print(f\"Price Change (7d): {crypto['price_change_percentage_7d_in_currency']}%\")\n",
        "            print(\"\\n\")\n",
        "    else:\n",
        "        print('Error fetching cryptocurrency data')\n",
        "\n",
        "# Example usage\n",
        "fetch_cryptocurrency_data()"
      ]
    }
  ]
}